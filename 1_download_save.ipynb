{
 "cells": [
  {
   "cell_type": "markdown",
   "id": "d3b2a4ed",
   "metadata": {},
   "source": [
    "# Download and Save the Model\n",
    "\n",
    "To save this model for use in various locations, including other notebooks or a model server, upload it to S3-compatible storage."
   ]
  },
  {
   "cell_type": "markdown",
   "id": "a609d460",
   "metadata": {},
   "source": [
    "## Install Required Packages"
   ]
  },
  {
   "cell_type": "code",
   "execution_count": null,
   "id": "d98f96a7",
   "metadata": {},
   "outputs": [],
   "source": [
    "!pip install boto3 botocore"
   ]
  },
  {
   "cell_type": "markdown",
   "id": "a350e7ce",
   "metadata": {},
   "source": [
    "## Download Model from Huggingface"
   ]
  },
  {
   "cell_type": "code",
   "execution_count": null,
   "id": "85cca617",
   "metadata": {},
   "outputs": [],
   "source": [
    "import os\n",
    "\n",
    "git_repo = \"https://huggingface.co/ibm-granite/granite-7b-instruct\"\n",
    "!git clone $git_repo\n",
    "\n",
    "model_name = os.path.basename(git_repo)\n",
    "print(f\"Model Name: {model_name}\")\n"
   ]
  },
  {
   "cell_type": "markdown",
   "id": "3cc53064",
   "metadata": {},
   "source": [
    "## Configure Environment Variables"
   ]
  },
  {
   "cell_type": "code",
   "execution_count": null,
   "id": "8d062b52",
   "metadata": {},
   "outputs": [],
   "source": [
    "import boto3\n",
    "import botocore\n",
    "\n",
    "aws_access_key_id = os.getenv('AWS_ACCESS_KEY_ID')\n",
    "aws_secret_access_key = os.getenv('AWS_SECRET_ACCESS_KEY')\n",
    "endpoint_url = os.getenv('AWS_S3_ENDPOINT')\n",
    "region_name = os.getenv('AWS_DEFAULT_REGION')\n",
    "bucket_name = os.getenv('AWS_S3_BUCKET')\n",
    "\n",
    "session = boto3.session.Session(\n",
    "    aws_access_key_id=aws_access_key_id,\n",
    "    aws_secret_access_key=aws_secret_access_key\n",
    ")\n",
    "\n",
    "s3_resource = session.resource(\n",
    "    's3',\n",
    "    config=botocore.client.Config(signature_version='s3v4'),\n",
    "    endpoint_url=endpoint_url,\n",
    "    region_name=region_name\n",
    ")\n",
    "\n",
    "bucket = s3_resource.Bucket(bucket_name)\n"
   ]
  },
  {
   "cell_type": "markdown",
   "id": "3d55ef66",
   "metadata": {},
   "source": [
    "## Upload Helper Functions"
   ]
  },
  {
   "cell_type": "code",
   "execution_count": null,
   "id": "b9f41945",
   "metadata": {},
   "outputs": [],
   "source": [
    "def upload_directory_to_s3(local_directory, s3_prefix, remove_safetensors=True):\n",
    "    for root, dirs, files in os.walk(local_directory):\n",
    "        for filename in files:\n",
    "            file_path = os.path.join(root, filename)\n",
    "            relative_path = os.path.relpath(file_path, local_directory)\n",
    "            if \".git\" in relative_path:\n",
    "                print(f\"Skipping {relative_path}\")\n",
    "                continue\n",
    "            s3_key = os.path.join(s3_prefix, relative_path)\n",
    "            print(f\"Uploading {file_path} -> {s3_key}\")\n",
    "            bucket.upload_file(file_path, s3_key)\n",
    "\n",
    "\n",
    "def list_objects(prefix):\n",
    "    for obj in bucket.objects.filter(Prefix=prefix).all():\n",
    "        print(obj.key)\n"
   ]
  },
  {
   "cell_type": "markdown",
   "id": "5b3603a4",
   "metadata": {},
   "source": [
    "## Upload and Verify"
   ]
  },
  {
   "cell_type": "code",
   "execution_count": null,
   "id": "6c06ff74",
   "metadata": {},
   "outputs": [],
   "source": [
    "# Upload model to S3\n",
    "upload_directory_to_s3(model_name, f\"models/{model_name}\")\n",
    "\n",
    "# Verify uploaded files\n",
    "list_objects(\"models\")\n"
   ]
  },
  {
   "cell_type": "markdown",
   "id": "3059dd88",
   "metadata": {},
   "source": [
    "## Required Hardware by Module"
   ]
  },
  {
   "cell_type": "markdown",
   "id": "a152e406",
   "metadata": {},
   "source": [
    "| Module              | Required Hardware       |\n",
    "|---------------------|---------------------------|\n",
    "| Model Download      | Internet Connection      |\n",
    "| Model Upload        | S3-Compatible Storage    |\n",
    "| AWS Integration     | AWS Account & S3 Bucket |\n",
    "| Large Models (>7B)  | High-Performance Storage |\n"
   ]
  },
  {
   "cell_type": "markdown",
   "id": "b40a8d3f",
   "metadata": {},
   "source": [
    "### Next Steps\n",
    "\n",
    "Now that the model is uploaded to S3 storage, you can reference the model using the same data connection and deploy it as an API."
   ]
  }
 ],
 "metadata": {},
 "nbformat": 4,
 "nbformat_minor": 5
}
